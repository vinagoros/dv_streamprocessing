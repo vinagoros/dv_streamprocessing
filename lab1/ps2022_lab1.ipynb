{
  "nbformat": 4,
  "nbformat_minor": 0,
  "metadata": {
    "colab": {
      "name": "ps2022-lab1",
      "provenance": [],
      "collapsed_sections": [],
      "include_colab_link": true
    },
    "kernelspec": {
      "name": "python3",
      "display_name": "Python 3"
    },
    "language_info": {
      "name": "python"
    }
  },
  "cells": [
    {
      "cell_type": "markdown",
      "metadata": {
        "id": "view-in-github",
        "colab_type": "text"
      },
      "source": [
        "<a href=\"https://colab.research.google.com/github/vinagoros/dv_streamprocessing/blob/main/lab1/ps2022_lab1.ipynb\" target=\"_parent\"><img src=\"https://colab.research.google.com/assets/colab-badge.svg\" alt=\"Open In Colab\"/></a>"
      ]
    },
    {
      "cell_type": "markdown",
      "metadata": {
        "id": "KgFZlT_g8O1Y"
      },
      "source": [
        "# Processamento de Streams 2022\n",
        "## Lab 1\n",
        "---\n",
        "### Colab Setup Basics\n",
        "\n",
        "This notebook shows how to run Spark in Google Colab.\n",
        "\n",
        "The main drawback is the Google Colab execution environment is not persistent. The notebook itself is saved in Google Drive, but Spark and any other software installation needs to be repeated everytime you reopen the notebook. \n",
        "\n",
        "Fortunately, it only the procedure only takes a couple of minutes and it is fully automated.\n",
        "\n"
      ]
    },
    {
      "cell_type": "code",
      "metadata": {
        "id": "1eIWfDqQ3Cqi",
        "cellView": "form",
        "outputId": "ce0fc707-7553-4837-95be-7e98ebe5b74e",
        "colab": {
          "base_uri": "https://localhost:8080/",
          "height": 346
        }
      },
      "source": [
        "#@title Mount Google Drive\n",
        "from google.colab import drive\n",
        "drive.mount('/content/drive')"
      ],
      "execution_count": 1,
      "outputs": [
        {
          "output_type": "error",
          "ename": "MessageError",
          "evalue": "ignored",
          "traceback": [
            "\u001b[0;31m---------------------------------------------------------------------------\u001b[0m",
            "\u001b[0;31mMessageError\u001b[0m                              Traceback (most recent call last)",
            "\u001b[0;32m<ipython-input-1-c1bbad18f0cf>\u001b[0m in \u001b[0;36m<module>\u001b[0;34m()\u001b[0m\n\u001b[1;32m      1\u001b[0m \u001b[0;31m#@title Mount Google Drive\u001b[0m\u001b[0;34m\u001b[0m\u001b[0;34m\u001b[0m\u001b[0;34m\u001b[0m\u001b[0m\n\u001b[1;32m      2\u001b[0m \u001b[0;32mfrom\u001b[0m \u001b[0mgoogle\u001b[0m\u001b[0;34m.\u001b[0m\u001b[0mcolab\u001b[0m \u001b[0;32mimport\u001b[0m \u001b[0mdrive\u001b[0m\u001b[0;34m\u001b[0m\u001b[0;34m\u001b[0m\u001b[0m\n\u001b[0;32m----> 3\u001b[0;31m \u001b[0mdrive\u001b[0m\u001b[0;34m.\u001b[0m\u001b[0mmount\u001b[0m\u001b[0;34m(\u001b[0m\u001b[0;34m'/content/drive'\u001b[0m\u001b[0;34m)\u001b[0m\u001b[0;34m\u001b[0m\u001b[0;34m\u001b[0m\u001b[0m\n\u001b[0m",
            "\u001b[0;32m/usr/local/lib/python3.7/dist-packages/google/colab/drive.py\u001b[0m in \u001b[0;36mmount\u001b[0;34m(mountpoint, force_remount, timeout_ms)\u001b[0m\n\u001b[1;32m    107\u001b[0m       \u001b[0mforce_remount\u001b[0m\u001b[0;34m=\u001b[0m\u001b[0mforce_remount\u001b[0m\u001b[0;34m,\u001b[0m\u001b[0;34m\u001b[0m\u001b[0;34m\u001b[0m\u001b[0m\n\u001b[1;32m    108\u001b[0m       \u001b[0mtimeout_ms\u001b[0m\u001b[0;34m=\u001b[0m\u001b[0mtimeout_ms\u001b[0m\u001b[0;34m,\u001b[0m\u001b[0;34m\u001b[0m\u001b[0;34m\u001b[0m\u001b[0m\n\u001b[0;32m--> 109\u001b[0;31m       ephemeral=True)\n\u001b[0m\u001b[1;32m    110\u001b[0m \u001b[0;34m\u001b[0m\u001b[0m\n\u001b[1;32m    111\u001b[0m \u001b[0;34m\u001b[0m\u001b[0m\n",
            "\u001b[0;32m/usr/local/lib/python3.7/dist-packages/google/colab/drive.py\u001b[0m in \u001b[0;36m_mount\u001b[0;34m(mountpoint, force_remount, timeout_ms, ephemeral)\u001b[0m\n\u001b[1;32m    126\u001b[0m   \u001b[0;32mif\u001b[0m \u001b[0mephemeral\u001b[0m\u001b[0;34m:\u001b[0m\u001b[0;34m\u001b[0m\u001b[0;34m\u001b[0m\u001b[0m\n\u001b[1;32m    127\u001b[0m     _message.blocking_request(\n\u001b[0;32m--> 128\u001b[0;31m         'request_auth', request={'authType': 'dfs_ephemeral'}, timeout_sec=None)\n\u001b[0m\u001b[1;32m    129\u001b[0m \u001b[0;34m\u001b[0m\u001b[0m\n\u001b[1;32m    130\u001b[0m   \u001b[0mmountpoint\u001b[0m \u001b[0;34m=\u001b[0m \u001b[0m_os\u001b[0m\u001b[0;34m.\u001b[0m\u001b[0mpath\u001b[0m\u001b[0;34m.\u001b[0m\u001b[0mexpanduser\u001b[0m\u001b[0;34m(\u001b[0m\u001b[0mmountpoint\u001b[0m\u001b[0;34m)\u001b[0m\u001b[0;34m\u001b[0m\u001b[0;34m\u001b[0m\u001b[0m\n",
            "\u001b[0;32m/usr/local/lib/python3.7/dist-packages/google/colab/_message.py\u001b[0m in \u001b[0;36mblocking_request\u001b[0;34m(request_type, request, timeout_sec, parent)\u001b[0m\n\u001b[1;32m    173\u001b[0m   request_id = send_request(\n\u001b[1;32m    174\u001b[0m       request_type, request, parent=parent, expect_reply=True)\n\u001b[0;32m--> 175\u001b[0;31m   \u001b[0;32mreturn\u001b[0m \u001b[0mread_reply_from_input\u001b[0m\u001b[0;34m(\u001b[0m\u001b[0mrequest_id\u001b[0m\u001b[0;34m,\u001b[0m \u001b[0mtimeout_sec\u001b[0m\u001b[0;34m)\u001b[0m\u001b[0;34m\u001b[0m\u001b[0;34m\u001b[0m\u001b[0m\n\u001b[0m",
            "\u001b[0;32m/usr/local/lib/python3.7/dist-packages/google/colab/_message.py\u001b[0m in \u001b[0;36mread_reply_from_input\u001b[0;34m(message_id, timeout_sec)\u001b[0m\n\u001b[1;32m    104\u001b[0m         reply.get('colab_msg_id') == message_id):\n\u001b[1;32m    105\u001b[0m       \u001b[0;32mif\u001b[0m \u001b[0;34m'error'\u001b[0m \u001b[0;32min\u001b[0m \u001b[0mreply\u001b[0m\u001b[0;34m:\u001b[0m\u001b[0;34m\u001b[0m\u001b[0;34m\u001b[0m\u001b[0m\n\u001b[0;32m--> 106\u001b[0;31m         \u001b[0;32mraise\u001b[0m \u001b[0mMessageError\u001b[0m\u001b[0;34m(\u001b[0m\u001b[0mreply\u001b[0m\u001b[0;34m[\u001b[0m\u001b[0;34m'error'\u001b[0m\u001b[0;34m]\u001b[0m\u001b[0;34m)\u001b[0m\u001b[0;34m\u001b[0m\u001b[0;34m\u001b[0m\u001b[0m\n\u001b[0m\u001b[1;32m    107\u001b[0m       \u001b[0;32mreturn\u001b[0m \u001b[0mreply\u001b[0m\u001b[0;34m.\u001b[0m\u001b[0mget\u001b[0m\u001b[0;34m(\u001b[0m\u001b[0;34m'data'\u001b[0m\u001b[0;34m,\u001b[0m \u001b[0;32mNone\u001b[0m\u001b[0;34m)\u001b[0m\u001b[0;34m\u001b[0m\u001b[0;34m\u001b[0m\u001b[0m\n\u001b[1;32m    108\u001b[0m \u001b[0;34m\u001b[0m\u001b[0m\n",
            "\u001b[0;31mMessageError\u001b[0m: Error: credential propagation was unsuccessful"
          ]
        }
      ]
    },
    {
      "cell_type": "code",
      "source": [
        "#@title Install PySpark\n",
        "!pip install pyspark findspark --quiet\n",
        "import findspark\n",
        "findspark.init()\n",
        "findspark.find()"
      ],
      "metadata": {
        "id": "L2O_3I3x1dbx",
        "outputId": "f45caa15-650f-4588-9a4f-ea6ff94f12ce",
        "colab": {
          "base_uri": "https://localhost:8080/",
          "height": 88
        }
      },
      "execution_count": 2,
      "outputs": [
        {
          "output_type": "stream",
          "name": "stdout",
          "text": [
            "\u001b[K     |████████████████████████████████| 281.4 MB 34 kB/s \n",
            "\u001b[K     |████████████████████████████████| 198 kB 46.7 MB/s \n",
            "\u001b[?25h  Building wheel for pyspark (setup.py) ... \u001b[?25l\u001b[?25hdone\n"
          ]
        },
        {
          "output_type": "execute_result",
          "data": {
            "text/plain": [
              "'/usr/local/lib/python3.7/dist-packages/pyspark'"
            ],
            "application/vnd.google.colaboratory.intrinsic+json": {
              "type": "string"
            }
          },
          "metadata": {},
          "execution_count": 2
        }
      ]
    },
    {
      "cell_type": "markdown",
      "source": [
        "---\n",
        "#Example\n",
        "### Weblog Sender\n",
        "The stream server is a small python TCP server, listening\n",
        "on port 7777 (localhost). \n",
        "\n",
        "The stream will consist of a set of text lines, obtained from the output log of a webserver.\n",
        "\n"
      ],
      "metadata": {
        "id": "51ECJ--i0D2G"
      }
    },
    {
      "cell_type": "code",
      "source": [
        "!wget -q -O - https://github.com/smduarte/ps2022/raw/main/colab/logsender.tgz | tar xfz - 2> /dev/null\n",
        "\n",
        "!nohup python logsender/server.py logsender/web.log 7777 > /dev/null 2> /dev/null &"
      ],
      "metadata": {
        "id": "GElosFxt-D4j"
      },
      "execution_count": 3,
      "outputs": []
    },
    {
      "cell_type": "markdown",
      "source": [
        "The python code below shows the basics needed to process data from socket source using PySpark.\n",
        "\n",
        "Spark Streaming python documentation is found [here](https://spark.apache.org/docs/latest/api/python/reference/pyspark.streaming.html)"
      ],
      "metadata": {
        "id": "1wihC26vaiT1"
      }
    },
    {
      "cell_type": "code",
      "metadata": {
        "id": "QpO0aX2PPWd1",
        "outputId": "52abade8-a78a-4708-bc6b-35f1de65014a",
        "colab": {
          "base_uri": "https://localhost:8080/"
        }
      },
      "source": [
        "from pyspark import SparkContext\n",
        "\n",
        "sc = SparkContext(\"local[2]\", \"WebLogExample\")\n",
        "import socket\n",
        "from pyspark.streaming import StreamingContext\n",
        "\n",
        "ssc = StreamingContext(sc, 1)\n",
        "lines = ssc.socketTextStream(\"localhost\", 7777)\n",
        "\n",
        "lines.pprint()\n",
        "\n",
        "ssc.start()\n",
        "ssc.awaitTermination(10)\n",
        "ssc.stop()"
      ],
      "execution_count": 4,
      "outputs": [
        {
          "output_type": "stream",
          "name": "stdout",
          "text": [
            "-------------------------------------------\n",
            "Time: 2022-04-18 15:13:03\n",
            "-------------------------------------------\n",
            "\n",
            "-------------------------------------------\n",
            "Time: 2022-04-18 15:13:04\n",
            "-------------------------------------------\n",
            "2022-04-18T15:13:03.122+0000 37.139.9.11 404 GET /codemove/TTCENCUFMH3C 0.026  \n",
            "2022-04-18T15:13:03.198+0000 178.22.148.122 404 GET /codemove/PSO83TYKET12 0.088  \n",
            "2022-04-18T15:13:03.198+0000 178.22.148.122 404 GET /codemove/PSO83TYKET12 0.088  \n",
            "2022-04-18T15:13:03.199+0000 37.139.9.11 404 GET /codemove/TTCENCUFMH3C 0.057  \n",
            "2022-04-18T15:13:03.472+0000 37.139.9.11 404 GET /codemove/TTCENCUFMH3C 0.015  \n",
            "2022-04-18T15:13:03.524+0000 185.28.193.95 404 GET /codemove/1U6HCG3V2S9D 0.056  \n",
            "2022-04-18T15:13:03.524+0000 185.28.193.95 404 GET /codemove/1U6HCG3V2S9D 0.052  \n",
            "2022-04-18T15:13:03.524+0000 185.28.193.95 404 GET /codemove/1U6HCG3V2S9D 0.055  \n",
            "2022-04-18T15:13:03.525+0000 185.28.193.95 404 GET /codemove/1U6HCG3V2S9D 0.013  \n",
            "2022-04-18T15:13:03.714+0000 37.139.9.11 404 GET /codemove/TTCENCUFMH3C 0.039  \n",
            "...\n",
            "\n",
            "-------------------------------------------\n",
            "Time: 2022-04-18 15:13:05\n",
            "-------------------------------------------\n",
            "2022-04-18T15:13:03.835+0000 185.28.193.95 404 GET /codemove/1U6HCG3V2S9D 0.047  \n",
            "2022-04-18T15:13:03.857+0000 185.28.193.95 404 GET /codemove/1U6HCG3V2S9D 0.209  \n",
            "2022-04-18T15:13:03.899+0000 185.28.193.95 404 GET /codemove/1U6HCG3V2S9D 0.070  \n",
            "2022-04-18T15:13:03.900+0000 185.28.193.95 404 GET /codemove/1U6HCG3V2S9D 0.070  \n",
            "2022-04-18T15:13:03.900+0000 185.28.193.95 404 GET /codemove/1U6HCG3V2S9D 0.169  \n",
            "2022-04-18T15:13:03.900+0000 185.28.193.95 404 GET /codemove/1U6HCG3V2S9D 0.168  \n",
            "2022-04-18T15:13:03.900+0000 185.28.193.95 404 GET /codemove/1U6HCG3V2S9D 0.171  \n",
            "2022-04-18T15:13:03.900+0000 185.28.193.95 404 GET /codemove/1U6HCG3V2S9D 0.168  \n",
            "2022-04-18T15:13:03.900+0000 185.28.193.95 404 GET /codemove/1U6HCG3V2S9D 0.168  \n",
            "2022-04-18T15:13:03.900+0000 185.28.193.95 404 GET /codemove/1U6HCG3V2S9D 0.070  \n",
            "...\n",
            "\n",
            "-------------------------------------------\n",
            "Time: 2022-04-18 15:13:06\n",
            "-------------------------------------------\n",
            "2022-04-18T15:13:04.800+0000 37.139.9.11 404 GET /codemove/TTCENCUFMH3C 3.051  \n",
            "2022-04-18T15:13:04.821+0000 192.241.151.220 404 GET /codemove/2CEBGK8M78Y7 0.247  \n",
            "2022-04-18T15:13:04.882+0000 178.22.148.122 404 GET /codemove/PSO83TYKET12 0.293  \n",
            "2022-04-18T15:13:04.882+0000 97.77.104.22 404 GET /codemove/7HIW17K7FDZI 4.076  \n",
            "2022-04-18T15:13:04.919+0000 120.52.73.97 404 GET /codemove/FJAQU6441E84 0.155  \n",
            "2022-04-18T15:13:04.919+0000 192.241.151.220 404 GET /codemove/2CEBGK8M78Y7 0.055  \n",
            "2022-04-18T15:13:04.954+0000 202.47.236.252 404 GET /codemove/CNDHDS3RE0QZ 0.124  \n",
            "2022-04-18T15:13:04.987+0000 192.241.151.220 404 GET /codemove/2CEBGK8M78Y7 0.086  \n",
            "2022-04-18T15:13:04.987+0000 2a01:488:66:1000:5c33:8503:0:1 404 GET /codemove/TYVRFD3NGGXK 0.076  \n",
            "2022-04-18T15:13:05.012+0000 97.77.104.22 404 GET /codemove/7HIW17K7FDZI 0.150  \n",
            "...\n",
            "\n",
            "-------------------------------------------\n",
            "Time: 2022-04-18 15:13:07\n",
            "-------------------------------------------\n",
            "2022-04-18T15:13:06.141+0000 120.52.73.97 404 GET /codemove/ICGPOQXLVXFS 41.959  \n",
            "2022-04-18T15:13:06.144+0000 97.77.104.22 404 GET /codemove/7HIW17K7FDZI 40.950  \n",
            "2022-04-18T15:13:06.144+0000 97.77.104.22 404 GET /codemove/7HIW17K7FDZI 41.570  \n",
            "2022-04-18T15:13:06.148+0000 178.22.148.122 404 GET /codemove/PSO83TYKET12 40.855  \n",
            "2022-04-18T15:13:06.149+0000 97.77.104.22 404 GET /codemove/7HIW17K7FDZI 41.358  \n",
            "2022-04-18T15:13:06.154+0000 120.52.73.97 404 GET /codemove/BJJHJB8J8T7C 41.845  \n",
            "2022-04-18T15:13:06.156+0000 120.52.73.97 404 GET /codemove/ZXIJYXW4KHLG 41.849  \n",
            "2022-04-18T15:13:06.164+0000 120.52.73.97 404 GET /codemove/UPVQ9X3JHLIC 41.763  \n",
            "2022-04-18T15:13:06.204+0000 120.52.73.98 404 GET /codemove/5Q9SRR2G46PJ 41.820  \n",
            "2022-04-18T15:13:06.205+0000 192.241.151.220 404 GET /codemove/2CEBGK8M78Y7 41.521  \n",
            "...\n",
            "\n",
            "-------------------------------------------\n",
            "Time: 2022-04-18 15:13:08\n",
            "-------------------------------------------\n",
            "2022-04-18T15:13:06.815+0000 2a01:488:66:1000:5c33:8503:0:1 404 GET /codemove/TYVRFD3NGGXK 0.100  \n",
            "2022-04-18T15:13:06.815+0000 120.52.73.98 404 GET /codemove/6GTXIA9YHX09 0.468  \n",
            "2022-04-18T15:13:06.815+0000 120.52.73.98 404 GET /codemove/GXZ23905JVVB 0.151  \n",
            "2022-04-18T15:13:06.815+0000 120.52.73.97 404 GET /codemove/K7L3XDX7EHZP 0.449  \n",
            "2022-04-18T15:13:06.815+0000 120.52.73.97 404 GET /codemove/BRPB8Y32OAGA 0.456  \n",
            "2022-04-18T15:13:06.815+0000 120.52.73.97 404 GET /codemove/1N80W0N2R36C 0.240  \n",
            "2022-04-18T15:13:06.818+0000 2a01:488:66:1000:5c33:8503:0:1 404 GET /codemove/TYVRFD3NGGXK 0.333  \n",
            "2022-04-18T15:13:06.818+0000 120.52.73.98 404 GET /codemove/HXHGRN3D4EJZ 0.538  \n",
            "2022-04-18T15:13:06.821+0000 120.52.73.98 404 GET /codemove/MYSJR8T268G4 0.436  \n",
            "2022-04-18T15:13:06.832+0000 120.52.73.97 404 GET /codemove/P2Y3FVKT3KN8 4.129  \n",
            "...\n",
            "\n",
            "-------------------------------------------\n",
            "Time: 2022-04-18 15:13:09\n",
            "-------------------------------------------\n",
            "2022-04-18T15:13:08.143+0000 120.52.73.98 404 GET /codemove/XWINUYKVHCSK 0.212  \n",
            "2022-04-18T15:13:08.242+0000 120.52.73.98 404 GET /codemove/HXHGRN3D4EJZ 0.177  \n",
            "2022-04-18T15:13:08.242+0000 120.52.73.97 404 GET /codemove/ZXIJYXW4KHLG 0.343  \n",
            "2022-04-18T15:13:08.242+0000 2a01:488:66:1000:5c33:8503:0:1 404 GET /codemove/TYVRFD3NGGXK 3.722  \n",
            "2022-04-18T15:13:08.242+0000 120.52.73.97 404 GET /codemove/FJAQU6441E84 0.216  \n",
            "2022-04-18T15:13:08.252+0000 97.77.104.22 404 GET /codemove/7HIW17K7FDZI 0.123  \n",
            "2022-04-18T15:13:08.280+0000 192.241.151.220 404 GET /codemove/2CEBGK8M78Y7 0.284  \n",
            "2022-04-18T15:13:08.280+0000 120.52.73.98 404 GET /codemove/01IX95N3AFP4 0.370  \n",
            "2022-04-18T15:13:08.298+0000 202.47.236.252 404 GET /codemove/CNDHDS3RE0QZ 0.357  \n",
            "2022-04-18T15:13:08.302+0000 120.52.73.97 404 GET /codemove/BJJHJB8J8T7C 0.447  \n",
            "...\n",
            "\n",
            "-------------------------------------------\n",
            "Time: 2022-04-18 15:13:10\n",
            "-------------------------------------------\n",
            "2022-04-18T15:13:08.807+0000 120.52.73.98 404 GET /codemove/CKS6CDTBS4M3 44.310  \n",
            "2022-04-18T15:13:08.808+0000 178.22.148.122 404 GET /codemove/PSO83TYKET12 40.203  \n",
            "2022-04-18T15:13:08.822+0000 192.241.151.220 404 GET /codemove/UPP72ZXJ4VNE 41.690  \n",
            "2022-04-18T15:13:08.824+0000 178.22.148.122 404 GET /codemove/PSO83TYKET12 40.717  \n",
            "2022-04-18T15:13:08.826+0000 178.22.148.122 404 GET /codemove/IUKY0G8DDBX7 41.191  \n",
            "2022-04-18T15:13:08.836+0000 178.22.148.122 404 GET /codemove/IUKY0G8DDBX7 41.176  \n",
            "2022-04-18T15:13:08.840+0000 120.52.73.98 404 GET /codemove/EIFAMDLDJ5E5 44.684  \n",
            "2022-04-18T15:13:08.840+0000 178.22.148.122 404 GET /codemove/IUKY0G8DDBX7 41.186  \n",
            "2022-04-18T15:13:08.841+0000 97.77.104.22 404 GET /codemove/7HIW17K7FDZI 44.685  \n",
            "2022-04-18T15:13:08.848+0000 178.22.148.122 404 GET /codemove/IUKY0G8DDBX7 41.165  \n",
            "...\n",
            "\n",
            "-------------------------------------------\n",
            "Time: 2022-04-18 15:13:11\n",
            "-------------------------------------------\n",
            "2022-04-18T15:13:09.806+0000 97.77.104.22 404 GET /codemove/7HIW17K7FDZI 48.316  \n",
            "2022-04-18T15:13:09.806+0000 120.52.73.98 404 GET /codemove/KCCF7RYIFSW3 0.390  \n",
            "2022-04-18T15:13:09.806+0000 192.241.151.220 404 GET /codemove/2CEBGK8M78Y7 43.635  \n",
            "2022-04-18T15:13:09.806+0000 120.52.73.97 404 GET /codemove/BRPB8Y32OAGA 48.211  \n",
            "2022-04-18T15:13:09.806+0000 120.52.73.97 404 GET /codemove/7WLDXG6TBOU0 0.364  \n",
            "2022-04-18T15:13:09.806+0000 192.241.151.220 404 GET /codemove/UPP72ZXJ4VNE 0.171  \n",
            "2022-04-18T15:13:09.806+0000 120.52.73.97 404 GET /codemove/QLZHMNO1XBAZ 48.282  \n",
            "2022-04-18T15:13:09.806+0000 120.52.73.97 404 GET /codemove/P2Y3FVKT3KN8 44.007  \n",
            "2022-04-18T15:13:09.806+0000 120.52.73.98 404 GET /codemove/01IX95N3AFP4 44.004  \n",
            "2022-04-18T15:13:09.806+0000 120.52.73.97 404 GET /codemove/K7L3XDX7EHZP 56.280  \n",
            "...\n",
            "\n",
            "-------------------------------------------\n",
            "Time: 2022-04-18 15:13:12\n",
            "-------------------------------------------\n",
            "2022-04-18T15:13:10.824+0000 97.77.104.22 404 GET /codemove/7HIW17K7FDZI 44.887  \n",
            "2022-04-18T15:13:10.825+0000 97.77.104.22 404 GET /codemove/12M9PNNIPT3Z 45.296  \n",
            "2022-04-18T15:13:10.825+0000 120.52.73.97 404 GET /codemove/BRPB8Y32OAGA 56.681  \n",
            "2022-04-18T15:13:10.830+0000 120.52.73.97 404 GET /codemove/1N80W0N2R36C 0.231  \n",
            "2022-04-18T15:13:10.830+0000 120.52.73.97 404 GET /codemove/NHS9F9XTLQ1Z 0.230  \n",
            "2022-04-18T15:13:10.836+0000 192.241.151.220 404 GET /codemove/UPP72ZXJ4VNE 56.608  \n",
            "2022-04-18T15:13:10.910+0000 192.241.151.220 404 GET /codemove/2CEBGK8M78Y7 0.087  \n",
            "2022-04-18T15:13:10.910+0000 125.31.1.27 404 GET /codemove/VORA983ZWBAV 56.754  \n",
            "2022-04-18T15:13:10.911+0000 120.52.73.97 404 GET /codemove/CIRD8XHJRQCG 45.161  \n",
            "2022-04-18T15:13:10.911+0000 120.52.73.97 404 GET /codemove/MDUGBDYGO9ZB 56.627  \n",
            "...\n",
            "\n"
          ]
        }
      ]
    },
    {
      "cell_type": "markdown",
      "source": [
        "---\n",
        "# Exercises\n",
        "\n",
        "Do the follwing exercises:\n",
        "\n",
        "**Every 3 seconds**, \n",
        "1. Dump the number of requests in the last 10 seconds;\n",
        "2. Dump the number of requests in the last 10 seconds, only if they total more than 100;\n",
        "3. Dump the number of requests in the last 10 seconds, if there is an IP address with more than 100 requests;\n",
        "4. Dump the proportion of IPv4 vs IPv6 requests in the last 20 seconds.\n",
        "\n"
      ],
      "metadata": {
        "id": "THPCe5kkaEr-"
      }
    },
    {
      "cell_type": "code",
      "source": [
        "#@title 1. Dump the number of requests in the last 10 seconds;\n",
        "\n",
        "from pyspark import SparkContext\n",
        "\n",
        "sc = SparkContext(\"local[2]\", \"WebLogExample\")\n",
        "import socket\n",
        "from pyspark.streaming import StreamingContext\n",
        "\n",
        "ssc = StreamingContext(sc, 1)\n",
        "line = ssc.socketTextStream(\"localhost\", 7777)\n",
        "lines = line.window(10,10)\n",
        "counted_lines = lines.count()\n",
        "counted_lines.pprint()\n",
        "\n",
        "ssc.start()\n",
        "ssc.awaitTermination(10)\n",
        "ssc.stop()\n",
        "\n",
        "\n"
      ],
      "metadata": {
        "id": "lObpuhKNkwL6",
        "outputId": "edcf237e-691e-4f3a-fcc4-010f9df17c8f",
        "colab": {
          "base_uri": "https://localhost:8080/"
        }
      },
      "execution_count": 5,
      "outputs": [
        {
          "output_type": "stream",
          "name": "stdout",
          "text": [
            "-------------------------------------------\n",
            "Time: 2022-04-17 17:34:09\n",
            "-------------------------------------------\n",
            "2022-04-17T17:33:59.741+0000 37.139.9.11 404 GET /codemove/TTCENCUFMH3C 0.026  \n",
            "2022-04-17T17:33:59.817+0000 178.22.148.122 404 GET /codemove/PSO83TYKET12 0.088  \n",
            "2022-04-17T17:33:59.818+0000 178.22.148.122 404 GET /codemove/PSO83TYKET12 0.088  \n",
            "2022-04-17T17:33:59.818+0000 37.139.9.11 404 GET /codemove/TTCENCUFMH3C 0.057  \n",
            "2022-04-17T17:34:00.091+0000 37.139.9.11 404 GET /codemove/TTCENCUFMH3C 0.015  \n",
            "2022-04-17T17:34:00.143+0000 185.28.193.95 404 GET /codemove/1U6HCG3V2S9D 0.056  \n",
            "2022-04-17T17:34:00.143+0000 185.28.193.95 404 GET /codemove/1U6HCG3V2S9D 0.052  \n",
            "2022-04-17T17:34:00.144+0000 185.28.193.95 404 GET /codemove/1U6HCG3V2S9D 0.055  \n",
            "2022-04-17T17:34:00.144+0000 185.28.193.95 404 GET /codemove/1U6HCG3V2S9D 0.013  \n",
            "2022-04-17T17:34:00.333+0000 37.139.9.11 404 GET /codemove/TTCENCUFMH3C 0.039  \n",
            "...\n",
            "\n"
          ]
        }
      ]
    },
    {
      "cell_type": "code",
      "source": [
        "#@title 2. Dump the number of requests in the last 10 seconds, only if they total more than 100;\n",
        "\n",
        "from pyspark import SparkContext\n",
        "\n",
        "sc = SparkContext(\"local[2]\", \"WebLogExample\")\n",
        "import socket\n",
        "from pyspark.streaming import StreamingContext\n",
        "\n",
        "ssc = StreamingContext(sc, 1)\n",
        "lines = ssc.socketTextStream(\"localhost\", 7777)\n",
        "counted_lines = lines.count().filter(lambda count : count > 100)\n",
        "\n",
        "counted_lines.pprint()\n",
        "\n",
        "ssc.start()\n",
        "ssc.awaitTermination(10)\n",
        "ssc.stop()"
      ],
      "metadata": {
        "id": "zM3bq7igmQa_",
        "outputId": "f213a391-3a04-4fae-ca2f-542af708e2fb",
        "colab": {
          "base_uri": "https://localhost:8080/"
        }
      },
      "execution_count": 4,
      "outputs": [
        {
          "output_type": "stream",
          "name": "stdout",
          "text": [
            "-------------------------------------------\n",
            "Time: 2022-04-18 15:20:23\n",
            "-------------------------------------------\n",
            "\n",
            "-------------------------------------------\n",
            "Time: 2022-04-18 15:20:24\n",
            "-------------------------------------------\n",
            "138\n",
            "\n",
            "-------------------------------------------\n",
            "Time: 2022-04-18 15:20:25\n",
            "-------------------------------------------\n",
            "\n",
            "-------------------------------------------\n",
            "Time: 2022-04-18 15:20:26\n",
            "-------------------------------------------\n",
            "239\n",
            "\n",
            "-------------------------------------------\n",
            "Time: 2022-04-18 15:20:27\n",
            "-------------------------------------------\n",
            "\n",
            "-------------------------------------------\n",
            "Time: 2022-04-18 15:20:28\n",
            "-------------------------------------------\n",
            "207\n",
            "\n",
            "-------------------------------------------\n",
            "Time: 2022-04-18 15:20:29\n",
            "-------------------------------------------\n",
            "\n",
            "-------------------------------------------\n",
            "Time: 2022-04-18 15:20:30\n",
            "-------------------------------------------\n",
            "292\n",
            "\n",
            "-------------------------------------------\n",
            "Time: 2022-04-18 15:20:31\n",
            "-------------------------------------------\n",
            "209\n",
            "\n",
            "-------------------------------------------\n",
            "Time: 2022-04-18 15:20:32\n",
            "-------------------------------------------\n",
            "116\n",
            "\n",
            "-------------------------------------------\n",
            "Time: 2022-04-18 15:20:33\n",
            "-------------------------------------------\n",
            "294\n",
            "\n"
          ]
        }
      ]
    },
    {
      "cell_type": "code",
      "source": [
        "#@title 3. Dump the number of requests in the last 10 seconds, if there is an IP address with more than 100 requests;\n",
        "\n",
        "from pyspark import SparkContext\n",
        "\n",
        "sc = SparkContext(\"local[2]\", \"WebLogExample\")\n",
        "import socket\n",
        "from pyspark.streaming import StreamingContext\n",
        "\n",
        "ssc = StreamingContext(sc, 1)\n",
        "line = ssc.socketTextStream(\"localhost\", 7777)\n",
        "lines = line.window(10,10)\n",
        "mapped_lines = lines.map(lambda line: (line.split(\" \")[1],1)).reduceByKey(lambda a,b : a+b).filter(lambda key_value_pair: key_value_pair[1]> 100)\n",
        "\n",
        "mapped_lines.pprint()\n",
        "\n",
        "ssc.start()\n",
        "ssc.awaitTermination(10)\n",
        "ssc.stop()\n"
      ],
      "metadata": {
        "id": "1wAa6w7EBQFh",
        "outputId": "1fdba0c4-a62a-4f0e-d681-e0baaaf8ee8f",
        "colab": {
          "base_uri": "https://localhost:8080/"
        }
      },
      "execution_count": 2,
      "outputs": [
        {
          "output_type": "stream",
          "name": "stdout",
          "text": [
            "-------------------------------------------\n",
            "Time: 2022-04-18 15:39:45\n",
            "-------------------------------------------\n",
            "('192.241.151.220', 115)\n",
            "('97.77.104.22', 124)\n",
            "('120.52.73.98', 187)\n",
            "('178.22.148.122', 156)\n",
            "('120.52.73.97', 255)\n",
            "\n"
          ]
        }
      ]
    },
    {
      "cell_type": "code",
      "source": [
        "#@title 4. Dump the proportion of IPv4 vs IPv6 requests in the last 20 seconds;\n",
        "\n",
        "from pyspark import SparkContext\n",
        "\n",
        "sc = SparkContext(\"local[2]\", \"WebLogExample\")\n",
        "import socket\n",
        "from pyspark.streaming import StreamingContext\n",
        "\n",
        "ssc = StreamingContext(sc, 1)\n",
        "line = ssc.socketTextStream(\"localhost\", 7777)\n",
        "lines = line.window(10,10).map(lambda line: line.split(\" \")[1])\n",
        "ipv4_lines = lines.filter(lambda ip: len(ip)<= 15).count()\n",
        "ipv6_lines = lines.filter(lambda ip : len(ip) > 15).count()\n",
        "ip_counts = ipv4_lines.union(ipv6_lines)\n",
        "final = ip_counts.reduce(lambda a,b : a/b if b > 0 else a)\n",
        "\n",
        "final.pprint()\n",
        "\n",
        "ssc.start()\n",
        "ssc.awaitTermination(20)\n",
        "ssc.stop()"
      ],
      "metadata": {
        "id": "IxHpB2DXViPq",
        "outputId": "4b10786d-8657-4ac7-cabc-001a193d77ff",
        "colab": {
          "base_uri": "https://localhost:8080/"
        }
      },
      "execution_count": 2,
      "outputs": [
        {
          "output_type": "stream",
          "name": "stdout",
          "text": [
            "-------------------------------------------\n",
            "Time: 2022-04-18 16:20:50\n",
            "-------------------------------------------\n",
            "30.358974358974358\n",
            "\n",
            "-------------------------------------------\n",
            "Time: 2022-04-18 16:21:00\n",
            "-------------------------------------------\n",
            "56.690140845070424\n",
            "\n"
          ]
        }
      ]
    }
  ]
}